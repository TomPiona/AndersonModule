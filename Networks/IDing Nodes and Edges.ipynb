{
 "cells": [
  {
   "cell_type": "markdown",
   "metadata": {},
   "source": [
    "# Nodes and Edges\n",
    "\n",
    "<b>Intent:</b> Taking a look at some of the things that you may need to use Python for in creating your network graphs.\n",
    "\n",
    "<b>Data from:</b> Gabriella's spreadsheet"
   ]
  },
  {
   "cell_type": "code",
   "execution_count": 57,
   "metadata": {
    "collapsed": true
   },
   "outputs": [],
   "source": [
    "# import packages\n",
    "from datascience import *\n",
    "import pandas as pd"
   ]
  },
  {
   "cell_type": "markdown",
   "metadata": {},
   "source": [
    "### Importing CSVs\n",
    "We are going to read in a csv that we downloaded from Google Sheets, using the `read_table` method from `datascience`. Below is a picture of what it originally looked like."
   ]
  },
  {
   "cell_type": "markdown",
   "metadata": {},
   "source": [
    "![](Google Sheets.png)"
   ]
  },
  {
   "cell_type": "code",
   "execution_count": 58,
   "metadata": {
    "collapsed": false,
    "scrolled": true
   },
   "outputs": [
    {
     "data": {
      "text/html": [
       "<table border=\"1\" class=\"dataframe\">\n",
       "    <thead>\n",
       "        <tr>\n",
       "            <th>Temple</th> <th>Code</th> <th>Location</th> <th>Width</th> <th>Dimensions</th> <th>Description</th>\n",
       "        </tr>\n",
       "    </thead>\n",
       "    <tbody>\n",
       "        <tr>\n",
       "            <td>E     </td> <td>E1  </td> <td>West wall of a wall located at the NE corner of the pyra ...</td> <td>7.2 cm </td> <td>1.5 mm    </td> <td>Fish head with appendages projecting from the mouth. The ...</td>\n",
       "        </tr>\n",
       "    </tbody>\n",
       "        <tr>\n",
       "            <td>E     </td> <td>E2  </td> <td>North surface of the second column (from East to West),  ...</td> <td>18.5 cm</td> <td>19 cm     </td> <td>Rhombic design with volutes at vertices; Inside you can  ...</td>\n",
       "        </tr>\n",
       "    </tbody>\n",
       "        <tr>\n",
       "            <td>E     </td> <td>E3  </td> <td>Ur s surface of the second column (from East to West), o ...</td> <td>18.5 cm</td> <td>46.5 cm   </td> <td>Three stylized human faces, one of which wears a simple  ...</td>\n",
       "        </tr>\n",
       "    </tbody>\n",
       "        <tr>\n",
       "            <td>D     </td> <td>D1  </td> <td>South surface of a column painted white, in the lateral  ...</td> <td>33 cm  </td> <td>115 cm    </td> <td>Stylized character, ornithomorphic motif and other like  ...</td>\n",
       "        </tr>\n",
       "    </tbody>\n",
       "        <tr>\n",
       "            <td>D     </td> <td>D2  </td> <td>West surface painted red of a column, in the lateral sec ...</td> <td>36 cm  </td> <td>92 cm     </td> <td>Character surrounded by a set of lines (Fig. 13B)           </td>\n",
       "        </tr>\n",
       "    </tbody>\n",
       "        <tr>\n",
       "            <td>D     </td> <td>D3  </td> <td>North facing north of enclosure 8, in the Patio Cereal,  ...</td> <td>10.5 cm</td> <td>15,5 cm   </td> <td>Character with headdress profile looking west. The body  ...</td>\n",
       "        </tr>\n",
       "    </tbody>\n",
       "        <tr>\n",
       "            <td>D     </td> <td>D4  </td> <td>North facing of the enclosure 8, in the Ceremonial Court ...</td> <td>9 cm   </td> <td>20.5 cm   </td> <td>Four separate motifs: a trophy head facing east, which s ...</td>\n",
       "        </tr>\n",
       "    </tbody>\n",
       "        <tr>\n",
       "            <td>D     </td> <td>D5  </td> <td>South facing interior of Campus 5, southwestern sector o ...</td> <td>3.7 cm </td> <td>6 cm      </td> <td>Incomplete profile head, with headdress and earmuff, fac ...</td>\n",
       "        </tr>\n",
       "    </tbody>\n",
       "        <tr>\n",
       "            <td>D     </td> <td>D6  </td> <td>South facing of Campus 5, southwestern sector of the Upp ...</td> <td>2.5 cm </td> <td>2.5 cm    </td> <td>In-complete human face (Fig. 17B)                           </td>\n",
       "        </tr>\n",
       "    </tbody>\n",
       "        <tr>\n",
       "            <td>D     </td> <td>D7  </td> <td>South facing interior of Campus 5, southwestern sector o ...</td> <td>7.5 cm </td> <td>13 cm     </td> <td>Undetermined reason (Fig. 17C)                              </td>\n",
       "        </tr>\n",
       "    </tbody>\n",
       "</table>\n",
       "<p>... (33 rows omitted)</p"
      ],
      "text/plain": [
       "Temple | Code | Location                                                     | Width   | Dimensions | Description\n",
       "E      | E1   | West wall of a wall located at the NE corner of the pyra ... | 7.2 cm  | 1.5 mm     | Fish head with appendages projecting from the mouth. The ...\n",
       "E      | E2   | North surface of the second column (from East to West),  ... | 18.5 cm | 19 cm      | Rhombic design with volutes at vertices; Inside you can  ...\n",
       "E      | E3   | Ur s surface of the second column (from East to West), o ... | 18.5 cm | 46.5 cm    | Three stylized human faces, one of which wears a simple  ...\n",
       "D      | D1   | South surface of a column painted white, in the lateral  ... | 33 cm   | 115 cm     | Stylized character, ornithomorphic motif and other like  ...\n",
       "D      | D2   | West surface painted red of a column, in the lateral sec ... | 36 cm   | 92 cm      | Character surrounded by a set of lines (Fig. 13B)\n",
       "D      | D3   | North facing north of enclosure 8, in the Patio Cereal,  ... | 10.5 cm | 15,5 cm    | Character with headdress profile looking west. The body  ...\n",
       "D      | D4   | North facing of the enclosure 8, in the Ceremonial Court ... | 9 cm    | 20.5 cm    | Four separate motifs: a trophy head facing east, which s ...\n",
       "D      | D5   | South facing interior of Campus 5, southwestern sector o ... | 3.7 cm  | 6 cm       | Incomplete profile head, with headdress and earmuff, fac ...\n",
       "D      | D6   | South facing of Campus 5, southwestern sector of the Upp ... | 2.5 cm  | 2.5 cm     | In-complete human face (Fig. 17B)\n",
       "D      | D7   | South facing interior of Campus 5, southwestern sector o ... | 7.5 cm  | 13 cm      | Undetermined reason (Fig. 17C)\n",
       "... (33 rows omitted)"
      ]
     },
     "execution_count": 58,
     "metadata": {},
     "output_type": "execute_result"
    }
   ],
   "source": [
    "graffiti = Table().read_table('WellonsG Graffiti mochicas in the Huaca Cao Viejo, El Brujo - Sheet1.csv')\n",
    "graffiti"
   ]
  },
  {
   "cell_type": "code",
   "execution_count": 59,
   "metadata": {
    "collapsed": false,
    "scrolled": true
   },
   "outputs": [
    {
     "data": {
      "text/html": [
       "<table border=\"1\" class=\"dataframe\">\n",
       "    <thead>\n",
       "        <tr>\n",
       "            <th>Temple</th> <th>Code</th>\n",
       "        </tr>\n",
       "    </thead>\n",
       "    <tbody>\n",
       "        <tr>\n",
       "            <td>E     </td> <td>E1  </td>\n",
       "        </tr>\n",
       "    </tbody>\n",
       "        <tr>\n",
       "            <td>E     </td> <td>E2  </td>\n",
       "        </tr>\n",
       "    </tbody>\n",
       "        <tr>\n",
       "            <td>E     </td> <td>E3  </td>\n",
       "        </tr>\n",
       "    </tbody>\n",
       "        <tr>\n",
       "            <td>D     </td> <td>D1  </td>\n",
       "        </tr>\n",
       "    </tbody>\n",
       "        <tr>\n",
       "            <td>D     </td> <td>D2  </td>\n",
       "        </tr>\n",
       "    </tbody>\n",
       "        <tr>\n",
       "            <td>D     </td> <td>D3  </td>\n",
       "        </tr>\n",
       "    </tbody>\n",
       "        <tr>\n",
       "            <td>D     </td> <td>D4  </td>\n",
       "        </tr>\n",
       "    </tbody>\n",
       "        <tr>\n",
       "            <td>D     </td> <td>D5  </td>\n",
       "        </tr>\n",
       "    </tbody>\n",
       "        <tr>\n",
       "            <td>D     </td> <td>D6  </td>\n",
       "        </tr>\n",
       "    </tbody>\n",
       "        <tr>\n",
       "            <td>D     </td> <td>D7  </td>\n",
       "        </tr>\n",
       "    </tbody>\n",
       "</table>\n",
       "<p>... (33 rows omitted)</p"
      ],
      "text/plain": [
       "Temple | Code\n",
       "E      | E1\n",
       "E      | E2\n",
       "E      | E3\n",
       "D      | D1\n",
       "D      | D2\n",
       "D      | D3\n",
       "D      | D4\n",
       "D      | D5\n",
       "D      | D6\n",
       "D      | D7\n",
       "... (33 rows omitted)"
      ]
     },
     "execution_count": 59,
     "metadata": {},
     "output_type": "execute_result"
    }
   ],
   "source": [
    "# selecting out the columns that we want to turn into our node / edge pairs\n",
    "temple_and_code = graffiti.select('Temple', 'Code')\n",
    "temple_and_code"
   ]
  },
  {
   "cell_type": "markdown",
   "metadata": {},
   "source": [
    "### Adding IDs"
   ]
  },
  {
   "cell_type": "markdown",
   "metadata": {},
   "source": [
    "We want to add a unique numerical ID to each of our items so that we can make our network graph. In order to do that, we will use a dictionary to keep track of what ID we assign to each different element. We are going to then define functions for adding elements to our dictionary and for getting the values that we assign to our keys."
   ]
  },
  {
   "cell_type": "code",
   "execution_count": 60,
   "metadata": {
    "collapsed": false
   },
   "outputs": [],
   "source": [
    "# we are going to count up from zero as we assign ID's to keys\n",
    "next_id = 0\n",
    "# initializing the dictionary that we will keep our key-value pairs in\n",
    "dictionary = {}\n",
    "\n",
    "# making a function for adding keys\n",
    "def add_to_dictionary(key):\n",
    "    global next_id\n",
    "    if key not in dictionary.keys():\n",
    "        dictionary[key] = next_id\n",
    "        next_id = next_id + 1\n",
    "\n",
    "# a function to get back values from the dictionary\n",
    "def get_id(key):\n",
    "    return dictionary[key]"
   ]
  },
  {
   "cell_type": "markdown",
   "metadata": {},
   "source": [
    "<b>Note:</b> \\>>> (three greater than signs) means that that line is something we typed\n",
    "\n",
    "#### <font color='blue'> Step by step of what we just defined</font>\n",
    "\n",
    "\n",
    "```\n",
    ">>> add_to_dictionary('E')\n",
    "```\n",
    "\n",
    "When we add 'dog' to our dictionary, we assign a unique ID to it, and store those values together. Think of this process as the computer remembering it like:\n",
    "\n",
    "```\n",
    "'dog' = 0\n",
    "```\n",
    "We then want to be able to get back an ID if we pass in a key:\n",
    "\n",
    "```\n",
    ">>> get_id('E')\n",
    "0\n",
    "```\n",
    "This a repeatable process that will hold true as we continue to pass more things in.\n",
    "\n",
    "```\n",
    ">>> add_to_dictionary('D')\n",
    ">>> add_to_dictionary('E1')\n",
    ">>> add_to_dictionary('E2')\n",
    ">>> get_id('E2')\n",
    "3\n",
    ">>> get_id('D')\n",
    "1\n",
    "```"
   ]
  },
  {
   "cell_type": "code",
   "execution_count": 61,
   "metadata": {
    "collapsed": false
   },
   "outputs": [],
   "source": [
    "# telling the computer, 'for each label in the labels\n",
    "# of our temple_and_code table repeat this process':\n",
    "for label in temple_and_code.labels:\n",
    "    # apply the add_to_dictionary function to each value in the column 'label' of this table\n",
    "    temple_and_code.apply(add_to_dictionary, label)"
   ]
  },
  {
   "cell_type": "code",
   "execution_count": 62,
   "metadata": {
    "collapsed": false
   },
   "outputs": [
    {
     "data": {
      "text/html": [
       "<table border=\"1\" class=\"dataframe\">\n",
       "    <thead>\n",
       "        <tr>\n",
       "            <th>Temple</th> <th>Code</th> <th>Source</th> <th>Edge</th>\n",
       "        </tr>\n",
       "    </thead>\n",
       "    <tbody>\n",
       "        <tr>\n",
       "            <td>E     </td> <td>E1  </td> <td>0     </td> <td>4   </td>\n",
       "        </tr>\n",
       "    </tbody>\n",
       "        <tr>\n",
       "            <td>E     </td> <td>E2  </td> <td>0     </td> <td>5   </td>\n",
       "        </tr>\n",
       "    </tbody>\n",
       "        <tr>\n",
       "            <td>E     </td> <td>E3  </td> <td>0     </td> <td>6   </td>\n",
       "        </tr>\n",
       "    </tbody>\n",
       "        <tr>\n",
       "            <td>D     </td> <td>D1  </td> <td>1     </td> <td>7   </td>\n",
       "        </tr>\n",
       "    </tbody>\n",
       "        <tr>\n",
       "            <td>D     </td> <td>D2  </td> <td>1     </td> <td>8   </td>\n",
       "        </tr>\n",
       "    </tbody>\n",
       "        <tr>\n",
       "            <td>D     </td> <td>D3  </td> <td>1     </td> <td>9   </td>\n",
       "        </tr>\n",
       "    </tbody>\n",
       "        <tr>\n",
       "            <td>D     </td> <td>D4  </td> <td>1     </td> <td>10  </td>\n",
       "        </tr>\n",
       "    </tbody>\n",
       "        <tr>\n",
       "            <td>D     </td> <td>D5  </td> <td>1     </td> <td>11  </td>\n",
       "        </tr>\n",
       "    </tbody>\n",
       "        <tr>\n",
       "            <td>D     </td> <td>D6  </td> <td>1     </td> <td>12  </td>\n",
       "        </tr>\n",
       "    </tbody>\n",
       "        <tr>\n",
       "            <td>D     </td> <td>D7  </td> <td>1     </td> <td>13  </td>\n",
       "        </tr>\n",
       "    </tbody>\n",
       "</table>\n",
       "<p>... (33 rows omitted)</p"
      ],
      "text/plain": [
       "Temple | Code | Source | Edge\n",
       "E      | E1   | 0      | 4\n",
       "E      | E2   | 0      | 5\n",
       "E      | E3   | 0      | 6\n",
       "D      | D1   | 1      | 7\n",
       "D      | D2   | 1      | 8\n",
       "D      | D3   | 1      | 9\n",
       "D      | D4   | 1      | 10\n",
       "D      | D5   | 1      | 11\n",
       "D      | D6   | 1      | 12\n",
       "D      | D7   | 1      | 13\n",
       "... (33 rows omitted)"
      ]
     },
     "execution_count": 62,
     "metadata": {},
     "output_type": "execute_result"
    }
   ],
   "source": [
    "# creating columns for our node\n",
    "nodes_and_edges = temple_and_code.with_columns([\n",
    "        'Source', temple_and_code.apply(get_id, 'Temple'),\n",
    "        'Edge', temple_and_code.apply(get_id, 'Code')\n",
    "    ])\n",
    "nodes_and_edges"
   ]
  },
  {
   "cell_type": "markdown",
   "metadata": {},
   "source": [
    "### Getting Weights"
   ]
  },
  {
   "cell_type": "markdown",
   "metadata": {},
   "source": [
    "We now have ID's for our table, but now we want weights for them that represent the strength of the relationship. There are many different ways to quantify a relationship, but we will do it based of frequency of appearance in our table. We will use the `group` function to let us know how many times a Temple-Code combo appears in our table."
   ]
  },
  {
   "cell_type": "code",
   "execution_count": 63,
   "metadata": {
    "collapsed": false
   },
   "outputs": [
    {
     "data": {
      "text/html": [
       "<table border=\"1\" class=\"dataframe\">\n",
       "    <thead>\n",
       "        <tr>\n",
       "            <th>Temple</th> <th>Code</th> <th>count</th>\n",
       "        </tr>\n",
       "    </thead>\n",
       "    <tbody>\n",
       "        <tr>\n",
       "            <td>A     </td> <td>A1  </td> <td>1    </td>\n",
       "        </tr>\n",
       "    </tbody>\n",
       "        <tr>\n",
       "            <td>A     </td> <td>A10 </td> <td>1    </td>\n",
       "        </tr>\n",
       "    </tbody>\n",
       "        <tr>\n",
       "            <td>A     </td> <td>A11 </td> <td>1    </td>\n",
       "        </tr>\n",
       "    </tbody>\n",
       "        <tr>\n",
       "            <td>A     </td> <td>A12 </td> <td>1    </td>\n",
       "        </tr>\n",
       "    </tbody>\n",
       "        <tr>\n",
       "            <td>A     </td> <td>A13 </td> <td>1    </td>\n",
       "        </tr>\n",
       "    </tbody>\n",
       "        <tr>\n",
       "            <td>A     </td> <td>A14 </td> <td>1    </td>\n",
       "        </tr>\n",
       "    </tbody>\n",
       "        <tr>\n",
       "            <td>A     </td> <td>A15 </td> <td>1    </td>\n",
       "        </tr>\n",
       "    </tbody>\n",
       "        <tr>\n",
       "            <td>A     </td> <td>A16 </td> <td>1    </td>\n",
       "        </tr>\n",
       "    </tbody>\n",
       "        <tr>\n",
       "            <td>A     </td> <td>A17 </td> <td>1    </td>\n",
       "        </tr>\n",
       "    </tbody>\n",
       "        <tr>\n",
       "            <td>A     </td> <td>A18 </td> <td>1    </td>\n",
       "        </tr>\n",
       "    </tbody>\n",
       "</table>\n",
       "<p>... (33 rows omitted)</p"
      ],
      "text/plain": [
       "Temple | Code | count\n",
       "A      | A1   | 1\n",
       "A      | A10  | 1\n",
       "A      | A11  | 1\n",
       "A      | A12  | 1\n",
       "A      | A13  | 1\n",
       "A      | A14  | 1\n",
       "A      | A15  | 1\n",
       "A      | A16  | 1\n",
       "A      | A17  | 1\n",
       "A      | A18  | 1\n",
       "... (33 rows omitted)"
      ]
     },
     "execution_count": 63,
     "metadata": {},
     "output_type": "execute_result"
    }
   ],
   "source": [
    "weights = temple_and_code.group(['Temple', 'Code'])\n",
    "weights"
   ]
  },
  {
   "cell_type": "markdown",
   "metadata": {},
   "source": [
    "We then will use the `pandas` function `merge` to join the two tables together so that we have the weights with our node and edge info. Notice that we need to convert our tables to `pandas` dataframes so that they will work with the function."
   ]
  },
  {
   "cell_type": "code",
   "execution_count": 64,
   "metadata": {
    "collapsed": false,
    "scrolled": true
   },
   "outputs": [
    {
     "data": {
      "text/html": [
       "<table border=\"1\" class=\"dataframe\">\n",
       "    <thead>\n",
       "        <tr>\n",
       "            <th>Temple</th> <th>Code</th> <th>Source</th> <th>Edge</th> <th>count</th>\n",
       "        </tr>\n",
       "    </thead>\n",
       "    <tbody>\n",
       "        <tr>\n",
       "            <td>E     </td> <td>E1  </td> <td>0     </td> <td>4   </td> <td>1    </td>\n",
       "        </tr>\n",
       "    </tbody>\n",
       "        <tr>\n",
       "            <td>E     </td> <td>E2  </td> <td>0     </td> <td>5   </td> <td>1    </td>\n",
       "        </tr>\n",
       "    </tbody>\n",
       "        <tr>\n",
       "            <td>E     </td> <td>E3  </td> <td>0     </td> <td>6   </td> <td>1    </td>\n",
       "        </tr>\n",
       "    </tbody>\n",
       "        <tr>\n",
       "            <td>D     </td> <td>D1  </td> <td>1     </td> <td>7   </td> <td>1    </td>\n",
       "        </tr>\n",
       "    </tbody>\n",
       "        <tr>\n",
       "            <td>D     </td> <td>D2  </td> <td>1     </td> <td>8   </td> <td>1    </td>\n",
       "        </tr>\n",
       "    </tbody>\n",
       "        <tr>\n",
       "            <td>D     </td> <td>D3  </td> <td>1     </td> <td>9   </td> <td>1    </td>\n",
       "        </tr>\n",
       "    </tbody>\n",
       "        <tr>\n",
       "            <td>D     </td> <td>D4  </td> <td>1     </td> <td>10  </td> <td>1    </td>\n",
       "        </tr>\n",
       "    </tbody>\n",
       "        <tr>\n",
       "            <td>D     </td> <td>D5  </td> <td>1     </td> <td>11  </td> <td>1    </td>\n",
       "        </tr>\n",
       "    </tbody>\n",
       "        <tr>\n",
       "            <td>D     </td> <td>D6  </td> <td>1     </td> <td>12  </td> <td>1    </td>\n",
       "        </tr>\n",
       "    </tbody>\n",
       "        <tr>\n",
       "            <td>D     </td> <td>D7  </td> <td>1     </td> <td>13  </td> <td>1    </td>\n",
       "        </tr>\n",
       "    </tbody>\n",
       "</table>\n",
       "<p>... (33 rows omitted)</p"
      ],
      "text/plain": [
       "Temple | Code | Source | Edge | count\n",
       "E      | E1   | 0      | 4    | 1\n",
       "E      | E2   | 0      | 5    | 1\n",
       "E      | E3   | 0      | 6    | 1\n",
       "D      | D1   | 1      | 7    | 1\n",
       "D      | D2   | 1      | 8    | 1\n",
       "D      | D3   | 1      | 9    | 1\n",
       "D      | D4   | 1      | 10   | 1\n",
       "D      | D5   | 1      | 11   | 1\n",
       "D      | D6   | 1      | 12   | 1\n",
       "D      | D7   | 1      | 13   | 1\n",
       "... (33 rows omitted)"
      ]
     },
     "execution_count": 64,
     "metadata": {},
     "output_type": "execute_result"
    }
   ],
   "source": [
    "with_weights = pd.merge(nodes_and_edges.to_df(), weights.to_df(), how='right',on=['Temple', 'Code'])\n",
    "# converting back to a datascience table\n",
    "with_weights = Table().from_df(with_weights)\n",
    "with_weights"
   ]
  },
  {
   "cell_type": "code",
   "execution_count": 65,
   "metadata": {
    "collapsed": false
   },
   "outputs": [
    {
     "data": {
      "text/html": [
       "<table border=\"1\" class=\"dataframe\">\n",
       "    <thead>\n",
       "        <tr>\n",
       "            <th>Temple</th> <th>Code</th> <th>Source</th> <th>Edge</th> <th>Weight</th>\n",
       "        </tr>\n",
       "    </thead>\n",
       "    <tbody>\n",
       "        <tr>\n",
       "            <td>E     </td> <td>E1  </td> <td>0     </td> <td>4   </td> <td>1     </td>\n",
       "        </tr>\n",
       "    </tbody>\n",
       "        <tr>\n",
       "            <td>E     </td> <td>E2  </td> <td>0     </td> <td>5   </td> <td>1     </td>\n",
       "        </tr>\n",
       "    </tbody>\n",
       "        <tr>\n",
       "            <td>E     </td> <td>E3  </td> <td>0     </td> <td>6   </td> <td>1     </td>\n",
       "        </tr>\n",
       "    </tbody>\n",
       "        <tr>\n",
       "            <td>D     </td> <td>D1  </td> <td>1     </td> <td>7   </td> <td>1     </td>\n",
       "        </tr>\n",
       "    </tbody>\n",
       "        <tr>\n",
       "            <td>D     </td> <td>D2  </td> <td>1     </td> <td>8   </td> <td>1     </td>\n",
       "        </tr>\n",
       "    </tbody>\n",
       "        <tr>\n",
       "            <td>D     </td> <td>D3  </td> <td>1     </td> <td>9   </td> <td>1     </td>\n",
       "        </tr>\n",
       "    </tbody>\n",
       "        <tr>\n",
       "            <td>D     </td> <td>D4  </td> <td>1     </td> <td>10  </td> <td>1     </td>\n",
       "        </tr>\n",
       "    </tbody>\n",
       "        <tr>\n",
       "            <td>D     </td> <td>D5  </td> <td>1     </td> <td>11  </td> <td>1     </td>\n",
       "        </tr>\n",
       "    </tbody>\n",
       "        <tr>\n",
       "            <td>D     </td> <td>D6  </td> <td>1     </td> <td>12  </td> <td>1     </td>\n",
       "        </tr>\n",
       "    </tbody>\n",
       "        <tr>\n",
       "            <td>D     </td> <td>D7  </td> <td>1     </td> <td>13  </td> <td>1     </td>\n",
       "        </tr>\n",
       "    </tbody>\n",
       "</table>\n",
       "<p>... (33 rows omitted)</p"
      ],
      "text/plain": [
       "Temple | Code | Source | Edge | Weight\n",
       "E      | E1   | 0      | 4    | 1\n",
       "E      | E2   | 0      | 5    | 1\n",
       "E      | E3   | 0      | 6    | 1\n",
       "D      | D1   | 1      | 7    | 1\n",
       "D      | D2   | 1      | 8    | 1\n",
       "D      | D3   | 1      | 9    | 1\n",
       "D      | D4   | 1      | 10   | 1\n",
       "D      | D5   | 1      | 11   | 1\n",
       "D      | D6   | 1      | 12   | 1\n",
       "D      | D7   | 1      | 13   | 1\n",
       "... (33 rows omitted)"
      ]
     },
     "execution_count": 65,
     "metadata": {},
     "output_type": "execute_result"
    }
   ],
   "source": [
    "# relabeling a column\n",
    "with_weights.relabel('count', 'Weight')"
   ]
  },
  {
   "cell_type": "code",
   "execution_count": 66,
   "metadata": {
    "collapsed": true
   },
   "outputs": [],
   "source": [
    "# to save as a csv\n",
    "#with_weights.to_csv('temple_nodes_edges.csv')"
   ]
  }
 ],
 "metadata": {
  "kernelspec": {
   "display_name": "Python [Root]",
   "language": "python",
   "name": "Python [Root]"
  },
  "language_info": {
   "codemirror_mode": {
    "name": "ipython",
    "version": 3
   },
   "file_extension": ".py",
   "mimetype": "text/x-python",
   "name": "python",
   "nbconvert_exporter": "python",
   "pygments_lexer": "ipython3",
   "version": "3.5.2"
  }
 },
 "nbformat": 4,
 "nbformat_minor": 0
}
