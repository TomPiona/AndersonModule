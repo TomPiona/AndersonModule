{
 "cells": [
  {
   "cell_type": "markdown",
   "metadata": {},
   "source": [
    "# Morph Analyzer Jupyter Interface\n",
    "\n",
    "## Widget Version"
   ]
  },
  {
   "cell_type": "code",
   "execution_count": null,
   "metadata": {
    "collapsed": false
   },
   "outputs": [],
   "source": [
    "import ipywidgets as widgets\n",
    "from IPython.display import display"
   ]
  },
  {
   "cell_type": "markdown",
   "metadata": {},
   "source": [
    "### Creating Functions"
   ]
  },
  {
   "cell_type": "code",
   "execution_count": null,
   "metadata": {
    "collapsed": true
   },
   "outputs": [],
   "source": [
    "def print_lines(file):\n",
    "    with open(file, 'r') as fle:\n",
    "        data = fle.readlines()\n",
    "    count = 0\n",
    "    for i in data:\n",
    "        print('Line ' + str(count) + ':  ' + i)\n",
    "        count += 1"
   ]
  },
  {
   "cell_type": "code",
   "execution_count": null,
   "metadata": {
    "collapsed": false
   },
   "outputs": [],
   "source": [
    "def insert_line(line_to_go_before, filename):\n",
    "    \n",
    "    with open(filename, 'r') as fle:\n",
    "        data = fle.readlines()\n",
    "        \n",
    "    text = widgets.Text()\n",
    "    display(text)\n",
    "\n",
    "    def handle_submit(sender):\n",
    "        #change the text below\n",
    "        nonlocal data\n",
    "        data.insert(line_to_go_before, text.value + '\\n')\n",
    "        \n",
    "        with open(filename, 'w') as fle:\n",
    "            data = ''.join(data)\n",
    "            fle.write(data)\n",
    "        \n",
    "        print('Inserted at line ' + str(line_to_go_before) + ': ' + text.value)\n",
    "        text.close()\n",
    "\n",
    "    text.on_submit(handle_submit)"
   ]
  },
  {
   "cell_type": "code",
   "execution_count": null,
   "metadata": {
    "collapsed": false
   },
   "outputs": [],
   "source": [
    "def replace_line(line_number, filename):\n",
    "        \n",
    "    with open(filename, 'r') as fle:\n",
    "        data = fle.readlines()\n",
    "        \n",
    "    text = widgets.Text(data[line_number])\n",
    "    display(text)\n",
    "\n",
    "    def handle_submit(sender):\n",
    "\n",
    "        nonlocal data\n",
    "        \n",
    "        \n",
    "        before = data[line_number]\n",
    "        data[line_number] = text.value + '\\n'\n",
    "        after = data[line_number]\n",
    "        \n",
    "        with open(filename, 'w') as fle:\n",
    "            data = ''.join(data)\n",
    "            fle.write(data)\n",
    "        \n",
    "        print('Before: ' + before)\n",
    "        print('After: ' + after)\n",
    "        text.close()\n",
    "\n",
    "    text.on_submit(handle_submit)"
   ]
  },
  {
   "cell_type": "markdown",
   "metadata": {},
   "source": [
    "### Pinning Cells"
   ]
  },
  {
   "cell_type": "code",
   "execution_count": null,
   "metadata": {
    "collapsed": true
   },
   "outputs": [],
   "source": [
    "%%javascript\n",
    "if (!Jupyter.toolbar.actions.get('cellfreezer:freeze')) {\n",
    "    Jupyter.toolbar.actions.register({\n",
    "      icon: 'fa-thumb-tack',\n",
    "      handler: function() {\n",
    "        var cell = Jupyter.notebook.get_selected_cell().element[0];\n",
    "        if (!cell.style.position) {\n",
    "          cell.style.position = 'fixed';\n",
    "          cell.style.top = '0px';\n",
    "          cell.style.left = '0px';\n",
    "          cell.style['z-index'] = 999;\n",
    "          cell.style.background = 'rgba(234, 211, 146, 0.88)';\n",
    "          cell.style.width = '50%';\n",
    "        } else {\n",
    "          cell.style.position = '';\n",
    "          cell.style.top = '';\n",
    "          cell.style.left = '';\n",
    "          cell.style['z-index'] = '';\n",
    "          cell.style.background = '';\n",
    "          cell.style.width = '';\n",
    "        }\n",
    "      }\n",
    "    }, 'freeze', 'cellfreezer');\n",
    "    Jupyter.toolbar.add_buttons_group(['cellfreezer:freeze']);\n",
    "    Jupyter.keyboard_manager.command_shortcuts.add_shortcut('q', 'cellfreezer:freeze');\n",
    "}"
   ]
  },
  {
   "cell_type": "markdown",
   "metadata": {},
   "source": [
    "### Testing"
   ]
  },
  {
   "cell_type": "code",
   "execution_count": null,
   "metadata": {
    "collapsed": false
   },
   "outputs": [],
   "source": [
    "print_lines('adj.lex')"
   ]
  },
  {
   "cell_type": "code",
   "execution_count": null,
   "metadata": {
    "collapsed": false
   },
   "outputs": [],
   "source": [
    "insert_line(4, 'adj.lex')"
   ]
  },
  {
   "cell_type": "code",
   "execution_count": null,
   "metadata": {
    "collapsed": false
   },
   "outputs": [],
   "source": [
    "print_lines('adj.lex')"
   ]
  },
  {
   "cell_type": "code",
   "execution_count": null,
   "metadata": {
    "collapsed": false
   },
   "outputs": [],
   "source": [
    "replace_line(4, 'adj.lex')"
   ]
  },
  {
   "cell_type": "code",
   "execution_count": null,
   "metadata": {
    "collapsed": false
   },
   "outputs": [],
   "source": [
    "print_lines('adj.lex')"
   ]
  },
  {
   "cell_type": "code",
   "execution_count": null,
   "metadata": {
    "collapsed": true
   },
   "outputs": [],
   "source": []
  }
 ],
 "metadata": {
  "kernelspec": {
   "display_name": "Python [Root]",
   "language": "python",
   "name": "Python [Root]"
  },
  "language_info": {
   "codemirror_mode": {
    "name": "ipython",
    "version": 3
   },
   "file_extension": ".py",
   "mimetype": "text/x-python",
   "name": "python",
   "nbconvert_exporter": "python",
   "pygments_lexer": "ipython3",
   "version": "3.5.2"
  }
 },
 "nbformat": 4,
 "nbformat_minor": 0
}
