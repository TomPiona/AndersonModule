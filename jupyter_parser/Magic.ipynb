{
 "cells": [
  {
   "cell_type": "markdown",
   "metadata": {},
   "source": [
    "# Morph Analyzer Jupyter Interface\n",
    "\n",
    "### Magic Version"
   ]
  },
  {
   "cell_type": "markdown",
   "metadata": {},
   "source": [
    "## Possible JS commands"
   ]
  },
  {
   "cell_type": "code",
   "execution_count": null,
   "metadata": {
    "collapsed": false
   },
   "outputs": [],
   "source": [
    "from IPython.display import Javascript, display, display_javascript\n",
    "import re\n",
    "\n",
    "def run_cell():\n",
    "    display(Javascript('IPython.notebook.execute_cells_below()'))\n",
    "    \n",
    "def make_cell(text):\n",
    "\n",
    "    display_javascript(\"\"\"var t_cell = IPython.notebook.get_selected_cell()\n",
    "    t_cell.set_text('{}');\n",
    "    var t_index = IPython.notebook.get_cells().indexOf(t_cell);\n",
    "    IPython.notebook.to_code(t_index);\n",
    "    IPython.notebook.get_cell(t_index).render();\"\"\".format((text).replace('\\n','\\\\n')), raw=True)\n",
    "    \n",
    "def add_to_front_of_cell(text):\n",
    "\n",
    "    display_javascript(\"\"\"var s_cell = IPython.notebook.get_selected_cell()\n",
    "    s_cell.set_text('{}' + s_cell.get_text());\n",
    "    var s_index = IPython.notebook.get_cells().indexOf(s_cell);\n",
    "    IPython.notebook.to_code(s_index);\n",
    "    IPython.notebook.get_cell(s_index).render();\"\"\".format((text + '\\\\n#').replace('\\n','\\\\n')), raw=True)\n",
    "    \n",
    "def load_file_for_rewrite(filename):\n",
    "    make_cell('%load ' + filename)\n",
    "    run_cell()\n",
    "    add_to_front_of_cell('%%writefile ' + filename)\n",
    "    run_cell()"
   ]
  },
  {
   "cell_type": "markdown",
   "metadata": {},
   "source": [
    "## JS for pinning cells"
   ]
  },
  {
   "cell_type": "code",
   "execution_count": null,
   "metadata": {
    "collapsed": false
   },
   "outputs": [],
   "source": [
    "%%javascript\n",
    "if (!Jupyter.toolbar.actions.get('cellfreezer:freeze')) {\n",
    "    Jupyter.toolbar.actions.register({\n",
    "      icon: 'fa-thumb-tack',\n",
    "      handler: function() {\n",
    "        var cell = Jupyter.notebook.get_selected_cell().element[0];\n",
    "        if (!cell.style.position) {\n",
    "          cell.style.position = 'fixed';\n",
    "          cell.style.top = '0px';\n",
    "          cell.style.left = '0px';\n",
    "          cell.style['z-index'] = 999;\n",
    "          cell.style.background = 'rgba(234, 211, 146, 0.88)';\n",
    "          cell.style.width = '50%';\n",
    "        } else {\n",
    "          cell.style.position = '';\n",
    "          cell.style.top = '';\n",
    "          cell.style.left = '';\n",
    "          cell.style['z-index'] = '';\n",
    "          cell.style.background = '';\n",
    "          cell.style.width = '';\n",
    "        }\n",
    "      }\n",
    "    }, 'freeze', 'cellfreezer');\n",
    "    Jupyter.toolbar.add_buttons_group(['cellfreezer:freeze']);\n",
    "    Jupyter.keyboard_manager.command_shortcuts.add_shortcut('q', 'cellfreezer:freeze');\n",
    "}"
   ]
  },
  {
   "cell_type": "markdown",
   "metadata": {},
   "source": [
    "## Reading / Writing\n",
    "\n",
    "To read in a .lex file, run this command, inserting the appropriate file path:\n",
    "        \n",
    "        %load /this/is/your/path/something.lex\n",
    "        \n",
    "To then overwrite it, replace the above line (which will now have a # in front of it), with the following:\n",
    "\n",
    "        %%writefile /this/is/your/path/something.lex"
   ]
  },
  {
   "cell_type": "markdown",
   "metadata": {},
   "source": [
    "## Adjective Dictionary"
   ]
  },
  {
   "cell_type": "code",
   "execution_count": null,
   "metadata": {
    "collapsed": false
   },
   "outputs": [],
   "source": [
    "%load adj.lex"
   ]
  },
  {
   "cell_type": "markdown",
   "metadata": {},
   "source": [
    "# Verb Dictionary"
   ]
  },
  {
   "cell_type": "code",
   "execution_count": null,
   "metadata": {
    "collapsed": false
   },
   "outputs": [],
   "source": [
    "%%writefile adj.lex"
   ]
  },
  {
   "cell_type": "markdown",
   "metadata": {
    "collapsed": false
   },
   "source": [
    "## Parser"
   ]
  },
  {
   "cell_type": "code",
   "execution_count": null,
   "metadata": {
    "collapsed": false
   },
   "outputs": [],
   "source": [
    "import sys,re\n",
    "\n",
    "targets=[]\n",
    "name=\"\"\n",
    "\n",
    "class bcolors:\n",
    "\n",
    "    REG = '\\033[93m'\n",
    "    PARSE = '\\033[91m'\n",
    "    ENDC = '\\033[0m'\n",
    "\n",
    "    def disable(self):\n",
    "        self.REG = ''\n",
    "        self.PARSE = ''\n",
    "        self.ENDC = ''\n",
    "\n",
    "def main(parseFile, filename):\n",
    "\n",
    "    # read morphological analyses\n",
    "    parses={}\n",
    "    file=open(parseFile)\n",
    "    for line in file:        \n",
    "        cols=line.rstrip().split(\"\\t\")\n",
    "        if len(cols) > 1:\n",
    "            word=cols[0]\n",
    "            parse=cols[1]\n",
    "\n",
    "            if re.match(\"UNKNOWN\", parse) == None:\n",
    "                if word not in parses:\n",
    "                    parses[word]=[]\n",
    "\n",
    "                parses[word].append(parse)\n",
    "\n",
    "    file.close()\n",
    "\n",
    "    p=re.compile(\"[\\t ]\")\n",
    "\n",
    "    file=open(filename)\n",
    "    for line in file:        \n",
    "        line=re.sub(\"[\\*\\[\\]/]\", \"\", line)\n",
    "        text=p.split(line.rstrip())\n",
    "        for word in text:\n",
    "            lookup=re.sub(\"[<>]\", \"\", word)\n",
    "            parse=\"\"\n",
    "            if lookup in parses:\n",
    "                parse=' '.join(parses[lookup])\n",
    "                print(\"%s%s%s (%s) %s\" % (bcolors.REG, word, bcolors.PARSE, parse, bcolors.ENDC))\n",
    "            else:\n",
    "                print(\"%s \" % (word))\n",
    "        print()\n",
    "\n",
    "    file.close()\n",
    "\n",
    "\n",
    "# USAGE python parse parses.txt text.txt \n",
    "main('test.txt', 'test.txt')"
   ]
  },
  {
   "cell_type": "markdown",
   "metadata": {},
   "source": [
    "## Compiling"
   ]
  },
  {
   "cell_type": "code",
   "execution_count": null,
   "metadata": {
    "collapsed": true
   },
   "outputs": [],
   "source": []
  },
  {
   "cell_type": "markdown",
   "metadata": {},
   "source": [
    "## Compile and Run\n",
    "\n",
    "Pin `compile_and_run()` to the top so that you can see the output constantly"
   ]
  },
  {
   "cell_type": "code",
   "execution_count": null,
   "metadata": {
    "collapsed": true
   },
   "outputs": [],
   "source": [
    "def compile_and_run():\n",
    "    print('Here is your output text!')\n",
    "    print('Here is your output text!')\n",
    "    print('Here is your output text!')"
   ]
  },
  {
   "cell_type": "code",
   "execution_count": null,
   "metadata": {
    "collapsed": false
   },
   "outputs": [],
   "source": [
    "compile_and_run()"
   ]
  }
 ],
 "metadata": {
  "anaconda-cloud": {},
  "kernelspec": {
   "display_name": "Python [Root]",
   "language": "python",
   "name": "Python [Root]"
  },
  "language_info": {
   "codemirror_mode": {
    "name": "ipython",
    "version": 3
   },
   "file_extension": ".py",
   "mimetype": "text/x-python",
   "name": "python",
   "nbconvert_exporter": "python",
   "pygments_lexer": "ipython3",
   "version": "3.5.2"
  }
 },
 "nbformat": 4,
 "nbformat_minor": 0
}
