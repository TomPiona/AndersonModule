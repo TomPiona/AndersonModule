{
 "cells": [
  {
   "cell_type": "markdown",
   "metadata": {},
   "source": [
    "# Further Applications of Regular Expressions\n",
    "\n",
    "On Thursday, we went over an introdution to strings and the use of regular expressions. Today, we will be focusing on more applications of those tools and hoping to explore the potential of tools that we have covered thus far.\n",
    "\n",
    "### Learning Goals:\n",
    "\n",
    "\n",
    "### Lesson Outline:\n",
    "- Q&A regarding Thursday's content\n",
    "- Examples (with Abigail's data)\n",
    "- Practice!"
   ]
  },
  {
   "cell_type": "code",
   "execution_count": null,
   "metadata": {
    "collapsed": true
   },
   "outputs": [],
   "source": [
    "# importing different packages\n",
    "import re"
   ]
  },
  {
   "cell_type": "markdown",
   "metadata": {},
   "source": [
    "## Importing our text"
   ]
  },
  {
   "cell_type": "code",
   "execution_count": null,
   "metadata": {
    "collapsed": false
   },
   "outputs": [],
   "source": [
    "with open('linsenn_to_page_69.txt', 'r') as f:\n",
    "    read_text = f.read()\n",
    "print(read_text)"
   ]
  },
  {
   "cell_type": "markdown",
   "metadata": {},
   "source": [
    "## Pulling out footnotes"
   ]
  },
  {
   "cell_type": "code",
   "execution_count": null,
   "metadata": {
    "collapsed": false
   },
   "outputs": [],
   "source": [
    "read_text"
   ]
  },
  {
   "cell_type": "markdown",
   "metadata": {},
   "source": [
    "## Removing all the transliterations and translations"
   ]
  },
  {
   "cell_type": "code",
   "execution_count": null,
   "metadata": {
    "collapsed": true
   },
   "outputs": [],
   "source": [
    "# b/c she wanted to do aggregation on the rest of the work"
   ]
  },
  {
   "cell_type": "markdown",
   "metadata": {},
   "source": [
    "## Putting those into a searchable format"
   ]
  },
  {
   "cell_type": "code",
   "execution_count": null,
   "metadata": {
    "collapsed": true
   },
   "outputs": [],
   "source": [
    "# i'd like to put them side by side, so comparison would be easy\n",
    "# probably need to make a function for that"
   ]
  },
  {
   "cell_type": "markdown",
   "metadata": {},
   "source": [
    "## Table of Contents"
   ]
  },
  {
   "cell_type": "code",
   "execution_count": null,
   "metadata": {
    "collapsed": true
   },
   "outputs": [],
   "source": [
    "# select out the toc from the beginning of the work"
   ]
  },
  {
   "cell_type": "markdown",
   "metadata": {},
   "source": [
    "## Search by Table of Contents"
   ]
  },
  {
   "cell_type": "code",
   "execution_count": null,
   "metadata": {
    "collapsed": true
   },
   "outputs": [],
   "source": [
    "# use the above table of contents to search for pages that fit within a certain section of the TOC\n",
    "# maybe get OOP and make it a tool for them"
   ]
  },
  {
   "cell_type": "markdown",
   "metadata": {},
   "source": [
    "## Seachable Pages"
   ]
  },
  {
   "cell_type": "code",
   "execution_count": null,
   "metadata": {
    "collapsed": false
   },
   "outputs": [],
   "source": [
    "# average characters per page, so within that range?\n",
    "# once you've found one, split there, then move onto the next\n",
    "# if not within that range plus or minus some error amount, \n",
    "# include that text, but move one more down in the range\n",
    "len(read_text) / 69"
   ]
  },
  {
   "cell_type": "code",
   "execution_count": null,
   "metadata": {
    "collapsed": false
   },
   "outputs": [],
   "source": [
    "# this needs a lot of work\n",
    "\n",
    "\n",
    "#change so that it only searches within a range of pages, \n",
    "#then determines which character would be the end of the page\n",
    "\n",
    "\n",
    "pg_breakdown = []\n",
    "temp = read_text\n",
    "for i in range(20):\n",
    "    print(re.search('.{,20}'+str(i)+'.{,20}', temp))\n",
    "    split = re.split('('+str(i)+')', temp, maxsplit=1)\n",
    "    temp = split[2]\n",
    "    pg_breakdown.append(split[0])\n",
    "pg_breakdown"
   ]
  },
  {
   "cell_type": "markdown",
   "metadata": {},
   "source": [
    "## Pull out all of the tables"
   ]
  },
  {
   "cell_type": "code",
   "execution_count": null,
   "metadata": {
    "collapsed": true
   },
   "outputs": [],
   "source": [
    "# see page 56 for an example of a table"
   ]
  }
 ],
 "metadata": {
  "kernelspec": {
   "display_name": "Python [Root]",
   "language": "python",
   "name": "Python [Root]"
  },
  "language_info": {
   "codemirror_mode": {
    "name": "ipython",
    "version": 3
   },
   "file_extension": ".py",
   "mimetype": "text/x-python",
   "name": "python",
   "nbconvert_exporter": "python",
   "pygments_lexer": "ipython3",
   "version": "3.5.2"
  }
 },
 "nbformat": 4,
 "nbformat_minor": 0
}
