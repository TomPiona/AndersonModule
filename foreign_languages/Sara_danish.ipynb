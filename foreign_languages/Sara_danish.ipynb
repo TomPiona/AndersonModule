{
 "cells": [
  {
   "cell_type": "code",
   "execution_count": 15,
   "metadata": {
    "collapsed": false
   },
   "outputs": [],
   "source": [
    "from anderson import translate"
   ]
  },
  {
   "cell_type": "code",
   "execution_count": 2,
   "metadata": {
    "collapsed": false,
    "scrolled": true
   },
   "outputs": [],
   "source": [
    "practice = translate([])"
   ]
  },
  {
   "cell_type": "code",
   "execution_count": 3,
   "metadata": {
    "collapsed": false
   },
   "outputs": [
    {
     "data": {
      "text/html": [
       "<style> #wrapper {width:100%;clear:both;display: flex;font-family:Courier New;}#d0 {background-color: #e6f3f7;width:100.0%;float:left;padding: .5vw;border-right: solid black 1.5px;}</style> <body><div id=\"wrapper\"><div id=\"d0\">Original Text:<br>j'adore le chien</div></div></body>"
      ],
      "text/plain": [
       "<IPython.core.display.HTML object>"
      ]
     },
     "metadata": {},
     "output_type": "display_data"
    }
   ],
   "source": [
    "practice.create(\"j'adore le chien\")"
   ]
  },
  {
   "cell_type": "code",
   "execution_count": 4,
   "metadata": {
    "collapsed": false
   },
   "outputs": [
    {
     "data": {
      "text/html": [
       "<style> #wrapper {width:100%;clear:both;display: flex;font-family:Courier New;}#d1 {background-color: #e6f3f7;width:50.0%;float:left;padding: .5vw;border-right: solid black 1.5px;}#d2 {background-color: lightgray;width:50.0%;float:left;padding: .5vw;border-right: solid black 1.5px;}</style> <body><div id=\"wrapper\"><div id=\"d1\">Original Text:<br>j'adore le chien</div><div id=\"d2\">Translation:<br>I love the dog</div></div></body>"
      ],
      "text/plain": [
       "<IPython.core.display.HTML object>"
      ]
     },
     "metadata": {},
     "output_type": "display_data"
    }
   ],
   "source": [
    "practice = translate(['translate'])\n",
    "practice.create(\"j'adore le chien\")"
   ]
  },
  {
   "cell_type": "code",
   "execution_count": 11,
   "metadata": {
    "collapsed": false
   },
   "outputs": [
    {
     "data": {
      "text/html": [
       "<style> #wrapper {width:100%;clear:both;display: flex;font-family:Courier New;}#d12 {background-color: #e6f3f7;width:33.333333333333336%;float:left;padding: .5vw;border-right: solid black 1.5px;}#d13 {background-color: lightgray;width:33.333333333333336%;float:left;padding: .5vw;border-right: solid black 1.5px;}#d14 {background-color: #e6f3f7;width:33.333333333333336%;float:left;padding: .5vw;border-right: solid black 1.5px;}</style> <body><div id=\"wrapper\"><div id=\"d12\">Original Text:<br>I spent the rest of my day taking a long walk in the park.</div><div id=\"d13\">Translation:<br>J’ai passé le reste de ma journée en prenant une longue promenade dans le parc.</div><div id=\"d14\">Parts of Speech:<br>[('I', 'PRP'), ('spent', 'VBD'), ('the', 'DT'), ('rest', 'NN'), ('of', 'IN'), ('my', 'PRP$'), ('day', 'NN'), ('taking', 'VBG'), ('a', 'DT'), ('long', 'JJ'), ('walk', 'NN'), ('in', 'IN'), ('the', 'DT'), ('park', 'NN'), ('.', '.')]</div></div></body>"
      ],
      "text/plain": [
       "<IPython.core.display.HTML object>"
      ]
     },
     "metadata": {},
     "output_type": "display_data"
    }
   ],
   "source": [
    "practice = translate(['translate', 'parts of speech'],language_to='fr')\n",
    "practice.create(\"I spent the rest of my day taking a long walk in the park.\")"
   ]
  },
  {
   "cell_type": "code",
   "execution_count": 12,
   "metadata": {
    "collapsed": false
   },
   "outputs": [
    {
     "data": {
      "text/html": [
       "<style> #wrapper {width:100%;clear:both;display: flex;font-family:Courier New;}#d15 {background-color: #e6f3f7;width:25.0%;float:left;padding: .5vw;border-right: solid black 1.5px;}#d16 {background-color: lightgray;width:25.0%;float:left;padding: .5vw;border-right: solid black 1.5px;}#d17 {background-color: #e6f3f7;width:25.0%;float:left;padding: .5vw;border-right: solid black 1.5px;}#d18 {background-color: lightgray;width:25.0%;float:left;padding: .5vw;border-right: solid black 1.5px;}</style> <body><div id=\"wrapper\"><div id=\"d15\">Original Text:<br>quand j'etais petit, je suis ascendu un gros arbre.</div><div id=\"d16\">Translation:<br>Когда я был ребенком, я взошел большое дерево.</div><div id=\"d17\">Parts of Speech:<br>[('quand', 'NN'), (\"j'etais\", 'NN'), ('petit', 'NN'), (',', ','), ('je', 'NN'), ('suis', 'NN'), ('ascendu', 'NN'), ('un', 'JJ'), ('gros', 'NN'), ('arbre', 'NN'), ('.', '.')]</div><div id=\"d18\">Morphology:<br>quand j'etais petit, je suis ascendu un gros arbre.</div></div></body>"
      ],
      "text/plain": [
       "<IPython.core.display.HTML object>"
      ]
     },
     "metadata": {},
     "output_type": "display_data"
    }
   ],
   "source": [
    "# nltk part of speech tagger only works for english -- need to explore other options\n",
    "# also, morphology is a stand in for whatever we want to add\n",
    "practice = translate(['translate', 'parts of speech', 'morphology'], language_to='ru')\n",
    "practice.create(\"quand j'etais petit, je suis ascendu un gros arbre.\")"
   ]
  },
  {
   "cell_type": "code",
   "execution_count": 7,
   "metadata": {
    "collapsed": false
   },
   "outputs": [
    {
     "data": {
      "text/html": [
       "<style> #wrapper {width:100%;clear:both;display: flex;font-family:Courier New;}#d10 {background-color: #e6f3f7;width:50.0%;float:left;padding: .5vw;border-right: solid black 1.5px;}#d11 {background-color: lightgray;width:50.0%;float:left;padding: .5vw;border-right: solid black 1.5px;}</style> <body><div id=\"wrapper\"><div id=\"d10\">Original Text:<br>I love the dog</div><div id=\"d11\">Translation:<br>Jeg elsker hunden</div></div></body>"
      ],
      "text/plain": [
       "<IPython.core.display.HTML object>"
      ]
     },
     "metadata": {},
     "output_type": "display_data"
    }
   ],
   "source": [
    "reverse = translate(['translate'], language_to='da')\n",
    "reverse.create('I love the dog')"
   ]
  },
  {
   "cell_type": "code",
   "execution_count": 13,
   "metadata": {
    "collapsed": false
   },
   "outputs": [
    {
     "data": {
      "text/plain": [
       "[('Cool', 'NNP'), ('stuff', 'NN')]"
      ]
     },
     "execution_count": 13,
     "metadata": {},
     "output_type": "execute_result"
    }
   ],
   "source": [
    "import nltk\n",
    "a = nltk.word_tokenize(\"Cool stuff\")\n",
    "nltk.pos_tag(a)"
   ]
  },
  {
   "cell_type": "code",
   "execution_count": null,
   "metadata": {
    "collapsed": true
   },
   "outputs": [],
   "source": [
    "# could possibly do a comparison of tags between the translated version and the original text"
   ]
  }
 ],
 "metadata": {
  "kernelspec": {
   "display_name": "Python [Root]",
   "language": "python",
   "name": "Python [Root]"
  },
  "language_info": {
   "codemirror_mode": {
    "name": "ipython",
    "version": 3
   },
   "file_extension": ".py",
   "mimetype": "text/x-python",
   "name": "python",
   "nbconvert_exporter": "python",
   "pygments_lexer": "ipython3",
   "version": "3.5.2"
  }
 },
 "nbformat": 4,
 "nbformat_minor": 0
}
